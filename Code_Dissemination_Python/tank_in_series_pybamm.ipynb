{
 "cells": [
  {
   "cell_type": "markdown",
   "metadata": {
    "tags": []
   },
   "source": [
    "# Implementation of the Tank in Series Model using PYBAMM\n",
    "\n",
    "In this notebook, we show how to solve the Tank in Series Model using solvers built into PyBAMM. For the purposes of this example, we use the CasADi solver that comes pre-installed with PyBAMM, but the syntax remains the same for other solvers"
   ]
  },
  {
   "cell_type": "code",
   "execution_count": 5,
   "metadata": {},
   "outputs": [],
   "source": [
    "# Setup\n",
    "import pybamm\n",
    "import tests\n",
    "import numpy as np\n",
    "import os\n",
    "import matplotlib.pyplot as plt\n",
    "import math\n",
    "from pprint import pprint\n",
    "os.chdir(pybamm.__path__[0]+'/..')\n",
    "\n",
    "# Create solver\n",
    "dae_solver = pybamm.CasadiSolver(mode=\"safe\") # use safe mode so that solver stops at events"
   ]
  },
  {
   "cell_type": "markdown",
   "metadata": {},
   "source": [
    "## Integrating DAEs"
   ]
  },
  {
   "cell_type": "markdown",
   "metadata": {},
   "source": [
    "Setting up constants and the discharge rate. "
   ]
  },
  {
   "cell_type": "code",
   "execution_count": 6,
   "metadata": {},
   "outputs": [],
   "source": [
    "# Constants\n",
    "F = 96487;  # Faraday's Constant\n",
    "R = 8.314472;  # Universal Gas Constant\n",
    "T = 273.15 + 25;  # Surface Temperature of the Cell\n",
    "\n",
    "alphaca = 0.5;\n",
    "alphacc = 0.5;\n",
    "alphaaa = 0.5;\n",
    "alphaac = 0.5;\n",
    "\n",
    "# Discharge rate\n",
    "ratetest = -1;\n",
    "t_eval = np.linspace(0, int(3600/abs(ratetest)), int(3600/abs(ratetest)));"
   ]
  },
  {
   "cell_type": "markdown",
   "metadata": {},
   "source": [
    "Add supporting functions. Use PyBAMM Built in math functions."
   ]
  },
  {
   "cell_type": "code",
   "execution_count": 7,
   "metadata": {},
   "outputs": [],
   "source": [
    "def Ionic_Conductivity(p,T,c):\n",
    "    return 0.1*0.001*p[8]*c*((-10.5+0.0740*T-0.0000696*T**2)+0.001*p[8]*c*(0.668-0.0178*T+0.000028*T**2)+0.000001*(p[8]*c)**2*(0.494-8.86e-4*T))**2;\n",
    "\n",
    "\n",
    "def OCV_pos(socp):\n",
    "    return -10.72*socp**4+23.88*socp**3-16.77*socp**2+2.595*socp+4.563;\n",
    "\n",
    "\n",
    "def OCV_neg(socn):\n",
    "    return .1493+.8493*pybamm.exp(-61.79*socn)+.3824*pybamm.exp(-665.8*socn)-pybamm.exp(39.42*socn-41.92)-.3131e-1*pybamm.arctan(25.59*socn-4.099)-.9434e-2*pybamm.arctan(32.49*socn-15.74);\n",
    "\n",
    "\n",
    "def LiTank_Parameters():\n",
    "\n",
    "    # DOI :  https://doi.org/10.1115/1.4028154\n",
    "    # Article Reference : A Temperature Dependent, Single Particle, Lithium Ion Cell Model Including Electrolyte Diffusion\n",
    "    # T. R. Tanim, C. D. Rahn, and C. Y. Wang, J. Dyn. Syst. Meas. Control. Trans. ASME, 137, 011005 (2015)\n",
    "\n",
    "    p = np.tile(np.float32(0), 26);\n",
    "\n",
    "    # Model parameters\n",
    "    p[1] = 1.4E-14;   # Solid phase diffusion coefficient in negative electrode (m**2/s)        (Dsn)\n",
    "    p[2] = 2E-14;     # Solid phase diffusion coefficient in positive electrode (m**2/s)        (Dsp)\n",
    "    p[3] = 5E-6; \t\t\t  # Radius of the particle in negative electrode (m)                       (Rpn)\n",
    "    p[4] = 5E-6; \t\t\t  # Radius of the particle in positive electrode (m)                       (Rpp)\n",
    "    p[5] = 1.5; \t\t\t  # bruggemann coefficient negative electrode                              (brugn)\n",
    "    p[6] = 1.5; \t\t\t  # bruggemann coefficient positive electrode                              (brugp)\n",
    "    p[7] = 1.5; \t\t\t  # bruggemann coefficient separator                                       (brugs)\n",
    "    p[8] = 1200; \t\t\t  # Initial electrolyte concentration           (mol/m**3)                  (c0)\n",
    "    p[9] = 31080;             # Maximum particle phase concentration in negative electrode(mol/m**3)   (ctn)\n",
    "    p[10] = 51830;            # Maximum particle phase concentration in positive electrode(mol/m**3)    (ctp)\n",
    "    p[11] = 0.038;   \t\t  # Filler fraction in negative electrode                                  (efn)\n",
    "    p[12] = 0.12;   \t\t  # Filler fraction in positive electrode                                  (efp)\n",
    "    p[13] = 0.30; \t\t\t  # Porosity in negative electrode                                         (en)\n",
    "    p[14] = 0.30; \t\t\t  # Porosity in positive electrode                                         (ep)\n",
    "    p[15] = 0.40; \t\t\t  # porosity in separator                                                  (es)\n",
    "    p[16] = 6.626E-10;\t      # Reaction rate constant in negative electrode (m**2.5/mol**0.5 s)         (kn)\n",
    "    p[17] = 2.405E-10; \t\t  # Reaction rate constant in positive electrode (m**2.5/mol**0.5 s)         (kp)\n",
    "    p[18] = 40e-6;   \t\t  # Thickness of negative electrode              (m)                       (ln)\n",
    "    p[19] = 36.55e-6;   \t  # Thickness of positive electrode              (m)                       (lp)\n",
    "    p[20] = 25e-6;    \t\t  # Thickness of separator                       (m)                       (ls)\n",
    "    p[21] = 0.79079;          # Initial particle phase concentration (scaled) negative electrode       (socn)\n",
    "    p[22] = 0.35973;          # Initial particle phase concentration (scaled) positive electrode       (socp)\n",
    "    p[23] = 0.38; \t\t\t  # transference number                                                    (t+)\n",
    "    p[24] = 17.54;            # Current density at 1C-rate (A/m**2)                                     (capacity)\n",
    "    p[25] = 0.28241E-9;       # Electrolyte Diffusivity (m**2/s)                                        (Dl)\n",
    "\n",
    "    return p;\n"
   ]
  },
  {
   "cell_type": "markdown",
   "metadata": {},
   "source": [
    "Introduce boundary conditions. Some solvers need an initial estimate for the derivatives that are all set to 0."
   ]
  },
  {
   "cell_type": "code",
   "execution_count": 8,
   "metadata": {},
   "outputs": [],
   "source": [
    "def initial_conditions(p):\n",
    "\n",
    "    x0 = np.tile(np.float32(0), 14)\n",
    "    xp0 = np.tile(np.float32(0), 14)\n",
    "\n",
    "    socp = p[22];\n",
    "    socn = p[21];\n",
    "\n",
    "    Up0 = -10.72 * socp ** 4 + 23.88 * socp ** 3 - 16.77 * socp ** 2 + 2.595 * socp + 4.563;\n",
    "    Un0 = .1493 + .8493 * math.exp(-61.79 * socn) + .3824 * math.exp(-665.8 * socn) - math.exp(\n",
    "        39.42 * socn - 41.92) - 0.03131 * math.atan(25.59 * socn - 4.099) - 0.009434 * math.atan(32.49 * socn - 15.74);\n",
    "\n",
    "    x0[0] = 1.00000000000000;\n",
    "    x0[1] = 1.00000000000000;\n",
    "    x0[2] = 1.00000000000000;\n",
    "    x0[3] = socp;\n",
    "    x0[4] = socn;\n",
    "    x0[5] = 0;\n",
    "    x0[6] = .997602877697382;\n",
    "    x0[7] = 1.00020002000133;\n",
    "    x0[8] = 1.00230264702900;\n",
    "    x0[9] = Up0;\n",
    "    x0[10] = Un0;\n",
    "    x0[11] = socp;\n",
    "    x0[12] = socn;\n",
    "    x0[13] = Up0 - Un0;\n",
    "\n",
    "    return x0, xp0\n",
    "\n",
    "\n",
    "\n",
    "def c12(p,c1,c2,c3):\n",
    "    c12 = (p[14] ** p[6] / p[19] * c1 + p[15] ** p[7] / p[20] * c2) / (p[14] ** p[6] / p[19] + p[15] ** p[7] / p[20]);\n",
    "    return c12;\n",
    "\n",
    "\n",
    "def c23(p,c1,c2,c3):\n",
    "    c23 = (p[13] ** p[5] / p[18] * c3 + p[15] ** p[7] / p[20] * c2) / (p[13] ** p[5] / p[18] + p[15] ** p[7] / p[20]);\n",
    "    return c23;\n",
    "\n",
    "\n",
    "def kappa_c12(p,T,c1,c2,c3):\n",
    "    kappa_c12 = Ionic_Conductivity(p, T, (p[14] ** p[6] / p[19] * c1 + p[15] ** p[7] / p[20] * c2) / (p[14] ** p[6] / p[19] + p[15] ** p[7] / p[20]));\n",
    "    return kappa_c12;\n",
    "\n",
    "\n",
    "def kappa_c23(p,T,c1,c2,c3):\n",
    "    kappa_c23 = Ionic_Conductivity(p, T,  (p[13] ** p[5] / p[18] * c3 + p[15] ** p[7] / p[20] * c2) / (p[13] ** p[5] / p[18] + p[15] ** p[7] / p[20]));\n",
    "    return kappa_c23;\n",
    "\n",
    "\n",
    "def S12(p,T,c1,c2,c3):\n",
    "    S12 = 2 * kappa_c12(p,T,c1,c2,c3) / (p[19] / (p[14] ** p[6]) + p[20] / (p[15] ** p[7]));\n",
    "    return S12;\n",
    "\n",
    "\n",
    "def S23(p,T,c1,c2,c3):\n",
    "    S23 = 2 * kappa_c23(p,T,c1,c2,c3) / (p[18] / (p[13] ** p[5]) + p[20] / (p[15] ** p[7]));\n",
    "    return S23;\n",
    "\n",
    "\n",
    "def Up(csurfs1):\n",
    "    Up = OCV_pos(csurfs1);\n",
    "    return Up;\n",
    "\n",
    "\n",
    "def Un(csurfs3):\n",
    "    Un = OCV_neg(csurfs3);\n",
    "    return Un;\n",
    "\n",
    "\n",
    "def eta_p(phis1, phi11):\n",
    "    eta_p = phis1 - pybamm.log(phi11) - Up(csurfs1);\n",
    "    return eta_p;\n",
    "\n",
    "\n",
    "def eta_n(phis3, phi13):\n",
    "    eta_n = phis3 - pybamm.log(phi13) - Un(csurfs3);\n",
    "    return eta_n;\n"
   ]
  },
  {
   "cell_type": "markdown",
   "metadata": {},
   "source": [
    "Preparing the coefficients of the Tank in Series Model"
   ]
  },
  {
   "cell_type": "code",
   "execution_count": 9,
   "metadata": {},
   "outputs": [],
   "source": [
    "p = LiTank_Parameters()\n",
    "\n",
    "x0, xp0 = initial_conditions(p)\n",
    "\n",
    "# Electrolyte Diffusivities at Interfacial Concentration\n",
    "Dl_c12 = p[25];\n",
    "Dl_c23 = p[25];\n",
    "\n",
    "# parameters\n",
    "ap = 3 / p[4] * (1 - p[12] - p[14]);\n",
    "an = 3 / p[3] * (1 - p[11] - p[13]);\n",
    "\n",
    "# Electrolyte Volume expressions in Tank Model (per unit area)\n",
    "V_l1 = p[14] * p[19];\n",
    "V_l2 = p[15] * p[20];\n",
    "V_l3 = p[13] * p[18];\n",
    "\n",
    "iapp = p[24] * ratetest;\n",
    "\n",
    "# Mass Tansport expressions in Tank Model (m/s)\n",
    "K12 = 2 * Dl_c12 / (p[19] / (p[14] ** p[6]) + p[20] / (p[15] ** p[7]));\n",
    "K23 = 2 * Dl_c23 / (p[18] / (p[13] ** p[5]) + p[20] / (p[15] ** p[7])); "
   ]
  },
  {
   "cell_type": "markdown",
   "metadata": {},
   "source": [
    "Setting up the model in PyBAMM. PyBAMM likes to use individual variables in the model. Note the event at the end that limits V to >= 2.8."
   ]
  },
  {
   "cell_type": "code",
   "execution_count": 10,
   "metadata": {},
   "outputs": [],
   "source": [
    "# Create model\n",
    "model = pybamm.BaseModel()\n",
    "\n",
    "c1 = pybamm.Variable(\"c1\")\n",
    "c2 = pybamm.Variable(\"c2\")\n",
    "c3 = pybamm.Variable(\"c3\")\n",
    "c1savg = pybamm.Variable(\"c1savg\")\n",
    "c3savg = pybamm.Variable(\"c3savg\")\n",
    "ah = pybamm.Variable(\"ah\")\n",
    "phi11 = pybamm.Variable(\"phi11\")\n",
    "phi12 = pybamm.Variable(\"phi12\")\n",
    "phi13 = pybamm.Variable(\"phi13\")\n",
    "phis1 = pybamm.Variable(\"phis1\")\n",
    "phis3 = pybamm.Variable(\"phis3\")\n",
    "csurfs1 = pybamm.Variable(\"csurfs1\")\n",
    "csurfs3 = pybamm.Variable(\"csurfs3\")\n",
    "v = pybamm.Variable(\"v\")\n",
    "\n",
    "model.variables = {\"c1\": c1,\n",
    "                   \"c2\": c2,\n",
    "                   \"c3\": c3,\n",
    "                   \"c1savg\": c1savg,\n",
    "                   \"c3savg\": c3savg,\n",
    "                   \"ah\": ah,\n",
    "                   \"phi11\": phi11,\n",
    "                   \"phi12\": phi12,\n",
    "                   \"phi13\": phi13,\n",
    "                   \"phis1\": phis1,\n",
    "                   \"phis3\": phis3,\n",
    "                   \"csurfs1\": csurfs1,\n",
    "                   \"csurfs3\": csurfs3,\n",
    "                   \"v\": v};\n",
    "\n",
    "# Define the equations\n",
    "model.rhs  = {c1:  (K12 / V_l1 * (c2 - c1) + ap * (1 - p[23]) * p[17] * (p[8] * c1) ** alphacc * p[10] * (\n",
    "        1 - csurfs1) ** alphaca * csurfs1 ** alphacc * (\n",
    "                               pybamm.exp(alphaca * F / R / T * eta_p(phis1, phi11)) - pybamm.exp(-alphacc * F / R / T * eta_p(phis1, phi11))) / p[14] /\n",
    "                       p[8]),\n",
    "                          c2:  ((-K12 * (c2 - c1) + K23 * (c3 - c2)) / V_l2),\n",
    "                          c3:  (-K23 / V_l3 * (c3 - c2) + an * (1 - p[23]) * p[16] * (p[8] * c3) ** alphaaa * p[9] * (\n",
    "        1 - csurfs3) ** alphaaa * csurfs3 ** alphaac * (\n",
    "                               pybamm.exp(alphaaa * F / R / T * eta_n(phis3, phi13)) - pybamm.exp(-alphaac * F / R / T * eta_n(phis3, phi13))) / p[13] /\n",
    "                       p[8]),\n",
    "                          c1savg: (-3 * iapp / ap / p[19] / F / p[10] / p[4]),\n",
    "                          c3savg: (3 * iapp / an / p[18] / F / p[9] / p[3]),\n",
    "                          ah:  (1 / 3600 * abs(iapp))};\n",
    "\n",
    "model.algebraic = {phi11: -S12(p,T,c1,c2,c3) * (pybamm.log(phi12) - pybamm.log(phi11)) + 2 * R * T * (1 - p[23]) / F * S12(p,T,c1,c2,c3) * (c2 - c1) / c12(p,c1,c2,c3) - iapp,\n",
    "                                phi12: (p[14] ** p[6] / p[19] * pybamm.log(phi11) + p[15] ** p[7] / p[20] * pybamm.log(phi12)) / (\n",
    "        p[14] ** p[6] / p[19] + p[15] ** p[7] / p[20]),\n",
    "                                phi13: -S23(p,T,c1,c2,c3) * (pybamm.log(phi13) - pybamm.log(phi12)) + 2 * R * T * (1 - p[23]) / F * S23(p,T,c1,c2,c3) * (c3 - c2) / c23(p,c1,c2,c3) - iapp,\n",
    "                                phis1: p[17] * (p[8] * c1) ** alphacc * p[10] * (1 - csurfs1) ** alphaca * csurfs1 ** alphacc * (\n",
    "        pybamm.exp(alphaca * F / R / T * eta_p(phis1, phi11)) - pybamm.exp(-alphacc * F / R / T * eta_p(phis1, phi11))) - iapp / ap / p[19] / F,\n",
    "                                phis3: p[16] * (p[8] * c3) ** alphaaa * p[9] * (1 - csurfs3) ** alphaaa * csurfs3 ** alphaac * (\n",
    "        pybamm.exp(alphaaa * F / R / T * eta_n(phis3, phi13)) - pybamm.exp(-alphaac * F / R / T * eta_n(phis3, phi13))) + iapp / an / p[18] / F,\n",
    "                                csurfs1: p[2] * p[10] * (csurfs1 - c1savg) / p[4] + 1 / 5 * iapp / ap / p[19] / F,\n",
    "                                csurfs3: p[1] * p[9] * (csurfs3 - c3savg) / p[3] - 1 / 5 * iapp / an / p[18] / F,\n",
    "                                v: v - phis1 + phis3};\n",
    "\n",
    "model.initial_conditions = {c1: x0[0],\n",
    "                            c2: x0[1],\n",
    "                            c3: x0[2],\n",
    "                            c1savg: x0[3],\n",
    "                            c3savg: x0[4],\n",
    "                            ah: x0[5],\n",
    "                            phi11: x0[6],\n",
    "                            phi12: x0[7],\n",
    "                            phi13: x0[8],\n",
    "                            phis1: x0[9],\n",
    "                            phis3: x0[10],\n",
    "                            csurfs1: x0[11],\n",
    "                            csurfs3: x0[12],\n",
    "                            v: x0[13]};\n",
    "\n",
    "model.events.append(pybamm.Event('v=2.8', v - 2.8))"
   ]
  },
  {
   "cell_type": "markdown",
   "metadata": {},
   "source": [
    "Discretize and run the model"
   ]
  },
  {
   "cell_type": "code",
   "execution_count": 11,
   "metadata": {},
   "outputs": [],
   "source": [
    "\n",
    "# Discretise using default discretisation\n",
    "disc = pybamm.Discretisation();\n",
    "disc.process_model(model);\n",
    "\n",
    "# Solve #################################\n",
    "solution = dae_solver.solve(model, t_eval);\n",
    "#########################################"
   ]
  },
  {
   "cell_type": "markdown",
   "metadata": {},
   "source": [
    "Now the model can be solved by calling `solver.solve` with a specific time vector at which to evaluate the solution"
   ]
  },
  {
   "cell_type": "code",
   "execution_count": 12,
   "metadata": {},
   "outputs": [
    {
     "data": {
      "image/png": "[encoded data removed]",
      "text/plain": [
       "<Figure size 936x288 with 2 Axes>"
      ]
     },
     "metadata": {
      "needs_background": "light"
     },
     "output_type": "display_data"
    }
   ],
   "source": [
    "# Extract and plot quantities\n",
    "t_sol = solution.t\n",
    "v = solution[\"v\"]\n",
    "c1 = solution[\"c1\"]\n",
    "c2 = solution[\"c2\"]\n",
    "c3 = solution[\"c3\"]\n",
    "\n",
    "phis1 = solution[\"phis1\"]\n",
    "phis3 = solution[\"phis3\"]\n",
    "\n",
    "fig, (ax1, ax2) = plt.subplots(1, 2, figsize=(13,4))\n",
    "ax1.plot(t_sol, v(t_sol), \"o\")\n",
    "ax1.plot(t_sol, phis1(t_sol), \"o\")\n",
    "ax1.plot(t_sol, -phis3(t_sol), \"o\")\n",
    "ax1.set_xlabel(\"t\")\n",
    "ax1.legend([\"v\", \"phis1\", \"-phis3\"], loc=\"best\")\n",
    "\n",
    "ax2.plot(t_sol, c1(t_sol), \"o\")\n",
    "ax2.plot(t_sol, c2(t_sol), \"o\")\n",
    "ax2.plot(t_sol, c3(t_sol), \"o\")\n",
    "ax2.set_xlabel(\"t\")\n",
    "ax2.legend([\"c1\",\"c2\",\"c3\"], loc=\"best\")\n",
    "\n",
    "plt.tight_layout()\n",
    "plt.show()"
   ]
  }
 ],
 "metadata": {
  "kernelspec": {
   "display_name": "Python 3 (ipykernel)",
   "language": "python",
   "name": "python3"
  },
  "language_info": {
   "codemirror_mode": {
    "name": "ipython",
    "version": 3
   },
   "file_extension": ".py",
   "mimetype": "text/x-python",
   "name": "python",
   "nbconvert_exporter": "python",
   "pygments_lexer": "ipython3",
   "version": "3.9.7"
  }
 },
 "nbformat": 4,
 "nbformat_minor": 4
}
